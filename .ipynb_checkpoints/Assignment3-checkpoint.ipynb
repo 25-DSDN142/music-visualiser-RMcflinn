{
 "cells": [
  {
   "cell_type": "code",
   "execution_count": 1,
   "id": "9e7e4021-5355-4b36-ae6f-d7bfec8fd07e",
   "metadata": {},
   "outputs": [],
   "source": [
    "import numpy as np\n",
    "import matplotlib.pyplot as plt"
   ]
  },
  {
   "cell_type": "code",
   "execution_count": 2,
   "id": "26e44e07-780f-478f-a8a6-4f2e318cafd0",
   "metadata": {},
   "outputs": [
    {
     "name": "stdout",
     "output_type": "stream",
     "text": [
      "list [1, 2, 3, 4, 5]\n",
      "numpyArray [1 2 3 4 5]\n"
     ]
    }
   ],
   "source": [
    "list = [1, 2, 3, 4, 5]\n",
    "print(\"list\", list) \n",
    "\n",
    "numpyArray = np.array([1, 2, 3, 4, 5])\n",
    "print(\"numpyArray\", numpyArray) "
   ]
  },
  {
   "cell_type": "code",
   "execution_count": 3,
   "id": "a02a603a-c01a-4a8b-8e89-b39a3fd614f1",
   "metadata": {},
   "outputs": [],
   "source": [
    "#Numpy is used for data of a single type of variable, this is ideal for larger datasets that youll be using complet mathematics for \n",
    "#Lists are ideal for data with multiple types of variables, they are used for tasks that dont involve such complex mathematical computations"
   ]
  },
  {
   "cell_type": "code",
   "execution_count": 12,
   "id": "eeaa0ac3-7918-49cb-bb6f-a95c7fdc525c",
   "metadata": {},
   "outputs": [],
   "source": [
    "sunspots = np.loadtxt(r\"C:\\Users\\roseb\\Documents\\CMPO132\\sunspots.txt\")\n"
   ]
  },
  {
   "cell_type": "code",
   "execution_count": 13,
   "id": "0ecda63b-78a1-428b-9049-50ed036e8b3d",
   "metadata": {},
   "outputs": [
    {
     "name": "stdout",
     "output_type": "stream",
     "text": [
      "<class 'numpy.float64'>\n"
     ]
    }
   ],
   "source": [
    "print(type(sunspots[0]))"
   ]
  },
  {
   "cell_type": "code",
   "execution_count": 14,
   "id": "5833d845-d55b-40d4-8319-bb48c28a274b",
   "metadata": {},
   "outputs": [
    {
     "name": "stdout",
     "output_type": "stream",
     "text": [
      "2820\n"
     ]
    }
   ],
   "source": [
    "print(len(sunspots))"
   ]
  },
  {
   "cell_type": "code",
   "execution_count": 15,
   "id": "817392f7-ac28-4b51-8057-014dfb76144a",
   "metadata": {},
   "outputs": [
    {
     "name": "stdout",
     "output_type": "stream",
     "text": [
      "65.7\n",
      "17.1\n",
      "0.0\n"
     ]
    }
   ],
   "source": [
    "print (sunspots[21])\n",
    "print (sunspots[557])\n",
    "print (sunspots[1555])"
   ]
  },
  {
   "cell_type": "code",
   "execution_count": 16,
   "id": "f8de04e9-c8c6-4580-984d-2cd2160d1742",
   "metadata": {},
   "outputs": [
    {
     "name": "stdout",
     "output_type": "stream",
     "text": [
      "55.8\n"
     ]
    }
   ],
   "source": [
    "print (sunspots[-3])"
   ]
  },
  {
   "cell_type": "code",
   "execution_count": 17,
   "id": "03f60e91-f83a-437b-b08f-5355a84e0e91",
   "metadata": {},
   "outputs": [
    {
     "name": "stdout",
     "output_type": "stream",
     "text": [
      "134.7, 90.8, 91.5 \n"
     ]
    }
   ],
   "source": [
    "print (f'{sunspots[456]}, {sunspots[1077]}, {sunspots[2622]} ')"
   ]
  },
  {
   "cell_type": "code",
   "execution_count": 18,
   "id": "df59dcc5-1541-4abd-b533-8c20d440323d",
   "metadata": {},
   "outputs": [
    {
     "name": "stdout",
     "output_type": "stream",
     "text": [
      "[66.5 80.7 99.2 91.1 82.2 71.8 50.3 55.8 33.3 33.4]\n"
     ]
    }
   ],
   "source": [
    "print (sunspots[-10:])"
   ]
  },
  {
   "cell_type": "code",
   "execution_count": 19,
   "id": "592df74e-decc-4cf6-90e0-45d87510b495",
   "metadata": {},
   "outputs": [
    {
     "name": "stdout",
     "output_type": "stream",
     "text": [
      "[53.7 64.4 84.  73.4 62.5 66.6 42.  50.6 40.9 48.3 56.7]\n"
     ]
    }
   ],
   "source": [
    "print (sunspots[1359:1370])"
   ]
  },
  {
   "cell_type": "code",
   "execution_count": 20,
   "id": "6d7cf97f-6520-4ce2-a66a-1f6520bd5dc4",
   "metadata": {},
   "outputs": [],
   "source": [
    "def monthIndexing(index):\n",
    "    year = 1749 + index // 12\n",
    "    month = (index % 12) + 1 \n",
    "    return month, year "
   ]
  },
  {
   "cell_type": "code",
   "execution_count": 21,
   "id": "db79208c-091f-4a19-938e-e9546d79e893",
   "metadata": {},
   "outputs": [],
   "source": [
    "def monthIndex(month, year):\n",
    "    index = (year - 1749) * 12 + (month - 1)\n",
    "    \n",
    "    if year < 1749 or year > 1983 or month < 1 or month > 12: #is the date valid??? u are valid girl \n",
    "        return print (f\"ERROR: Invalid Date Input. This dataset has {len(sunspots)} elements, corresponding to months between {Index_Month(0)} and {Index_Month(len(sunspots)-1)}.\")\n",
    "    \n",
    "    else: \n",
    "        return index"
   ]
  },
  {
   "cell_type": "code",
   "execution_count": 22,
   "id": "4e011ef8-e51f-45e6-8d3a-aa95bbfb2fa2",
   "metadata": {},
   "outputs": [
    {
     "ename": "NameError",
     "evalue": "name 'Month_Index' is not defined",
     "output_type": "error",
     "traceback": [
      "\u001b[31m---------------------------------------------------------------------------\u001b[39m",
      "\u001b[31mNameError\u001b[39m                                 Traceback (most recent call last)",
      "\u001b[36mCell\u001b[39m\u001b[36m \u001b[39m\u001b[32mIn[22]\u001b[39m\u001b[32m, line 1\u001b[39m\n\u001b[32m----> \u001b[39m\u001b[32m1\u001b[39m \u001b[38;5;28mprint\u001b[39m (sunspots[\u001b[43mMonth_Index\u001b[49m(\u001b[32m1\u001b[39m, \u001b[32m1970\u001b[39m)])\n\u001b[32m      2\u001b[39m \u001b[38;5;28mprint\u001b[39m (sunspots[Month_Index(\u001b[32m4\u001b[39m, \u001b[32m1876\u001b[39m)])\n\u001b[32m      3\u001b[39m \u001b[38;5;28mprint\u001b[39m (sunspots[Month_Index(\u001b[32m1\u001b[39m, \u001b[32m1900\u001b[39m):Month_Index(\u001b[32m12\u001b[39m, \u001b[32m1900\u001b[39m)+\u001b[32m1\u001b[39m])\n",
      "\u001b[31mNameError\u001b[39m: name 'Month_Index' is not defined"
     ]
    }
   ],
   "source": [
    "print (sunspots[monthIndex(1, 1970)])\n",
    "print (sunspots[monthIndex(4, 1876)])\n",
    "print (sunspots[monthIndex(1, 1900):monthIndex(12, 1900)+1])"
   ]
  },
  {
   "cell_type": "code",
   "execution_count": null,
   "id": "c01c452b-0be7-4cd1-85e2-1f177edd370e",
   "metadata": {},
   "outputs": [],
   "source": []
  }
 ],
 "metadata": {
  "kernelspec": {
   "display_name": "Python 3 (ipykernel)",
   "language": "python",
   "name": "python3"
  },
  "language_info": {
   "codemirror_mode": {
    "name": "ipython",
    "version": 3
   },
   "file_extension": ".py",
   "mimetype": "text/x-python",
   "name": "python",
   "nbconvert_exporter": "python",
   "pygments_lexer": "ipython3",
   "version": "3.11.9"
  }
 },
 "nbformat": 4,
 "nbformat_minor": 5
}
