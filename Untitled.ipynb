{
 "cells": [
  {
   "cell_type": "code",
   "execution_count": 1,
   "id": "cc8c8ca6-6e23-46ff-8191-c1b5f2f13e01",
   "metadata": {},
   "outputs": [],
   "source": [
    "import numpy as np \n",
    "import matplotlib.pyplot as plt "
   ]
  },
  {
   "cell_type": "code",
   "execution_count": 2,
   "id": "2aa62859-6d21-4fa6-a977-c6f6ce4939b1",
   "metadata": {},
   "outputs": [
    {
     "data": {
      "text/plain": [
       "array([1, 2, 3, 4, 5])"
      ]
     },
     "metadata": {},
     "output_type": "display_data"
    }
   ],
   "source": [
    "numpy_array = np.array([1, 2, 3, 4, 5])\n",
    "display(numpy_array)"
   ]
  },
  {
   "cell_type": "code",
   "execution_count": 3,
   "id": "596c4889-8359-4b18-8d0e-cde2a6b40fec",
   "metadata": {},
   "outputs": [],
   "source": [
    "sunspots_array = np.loadtxt(r\"C:\\Users\\roseb\\Documents\\CMPO132\\sunspots.txt\")"
   ]
  },
  {
   "cell_type": "code",
   "execution_count": 4,
   "id": "829e0ad3-d3c6-4957-a64c-7aa9dacf6be5",
   "metadata": {},
   "outputs": [
    {
     "name": "stdout",
     "output_type": "stream",
     "text": [
      "<class 'numpy.float64'>\n"
     ]
    }
   ],
   "source": [
    "print(type(sunspots_array[0])) #type for data elements "
   ]
  },
  {
   "cell_type": "code",
   "execution_count": 5,
   "id": "c65963f7-8cad-44f7-bb5e-01aef748babc",
   "metadata": {},
   "outputs": [
    {
     "name": "stdout",
     "output_type": "stream",
     "text": [
      "2820\n"
     ]
    }
   ],
   "source": [
    "print(len(sunspots_array)) #len=length/total"
   ]
  },
  {
   "cell_type": "code",
   "execution_count": 6,
   "id": "53880de6-bc5a-4b56-b706-8134c320e66a",
   "metadata": {},
   "outputs": [
    {
     "name": "stdout",
     "output_type": "stream",
     "text": [
      "65.7\n",
      "12.9\n",
      "5.3\n"
     ]
    }
   ],
   "source": [
    "print(sunspots_array[21])\n",
    "print(sunspots_array[558])\n",
    "print(sunspots_array[1556]) #counting from 1, index starting at 0 so '22' = 21"
   ]
  },
  {
   "cell_type": "code",
   "execution_count": 7,
   "id": "9ae39d81-bbb0-4a83-ac40-5e0127d5e769",
   "metadata": {},
   "outputs": [
    {
     "name": "stdout",
     "output_type": "stream",
     "text": [
      "55.8\n"
     ]
    }
   ],
   "source": [
    "print(sunspots_array[-3]) #3 spots back from last"
   ]
  },
  {
   "cell_type": "code",
   "execution_count": 8,
   "id": "5dd81594-68d8-41a5-b583-524be7818bbc",
   "metadata": {},
   "outputs": [
    {
     "name": "stdout",
     "output_type": "stream",
     "text": [
      "134.7, 90.8, 91.5\n"
     ]
    }
   ],
   "source": [
    "print(f'{sunspots_array[456]}, {sunspots_array[1077]}, {sunspots_array[2622]}')"
   ]
  },
  {
   "cell_type": "code",
   "execution_count": 9,
   "id": "e345ab47-2d75-4432-b658-2420e5bd0c37",
   "metadata": {},
   "outputs": [
    {
     "name": "stdout",
     "output_type": "stream",
     "text": [
      "66.5\n"
     ]
    }
   ],
   "source": [
    "print(f'{sunspots_array[-10]}') "
   ]
  },
  {
   "cell_type": "code",
   "execution_count": 10,
   "id": "3e4b6d41-e9e0-465a-bd76-392cdad631a6",
   "metadata": {},
   "outputs": [
    {
     "name": "stdout",
     "output_type": "stream",
     "text": [
      "[53.7 64.4 84.  73.4 62.5 66.6 42.  50.6 40.9 48.3]\n"
     ]
    }
   ],
   "source": [
    "print(f'{sunspots_array[1359:1369]}')  # : is working as -"
   ]
  },
  {
   "cell_type": "code",
   "execution_count": 11,
   "id": "75d2dcb6-0e77-4760-9454-1d1bba6401a2",
   "metadata": {},
   "outputs": [],
   "source": [
    "def index_from_MY(month, year):\n",
    "    index = (year-1749)* 12 + (month-1) #-1 and 1749 for index to = 0 \n",
    "    if month < 1 or month > 12 or year < 1749 or year > 1983: \n",
    "        print(f'Error: please check if date entered is viable. The dates entered must be between{index_from_MY(0)} and {index_from_MY(len(sunspots_array)-1)}')\n",
    "    else:\n",
    "        return index"
   ]
  },
  {
   "cell_type": "code",
   "execution_count": 12,
   "id": "d0f92da8-d259-40fd-9a42-890dc6d47cd1",
   "metadata": {},
   "outputs": [
    {
     "name": "stdout",
     "output_type": "stream",
     "text": [
      "111.5\n",
      "2.3\n",
      "[ 9.4 13.6  8.6 16.  15.2 12.1  8.3  4.3  8.3 12.9  4.5  0.3]\n"
     ]
    }
   ],
   "source": [
    "print(sunspots_array[index_from_MY(1, 1970)]) #square brackets for indexing\n",
    "print(sunspots_array[index_from_MY(4, 1876)]) \n",
    "print(sunspots_array[index_from_MY(1, 1900):index_from_MY(1, 1901)])"
   ]
  },
  {
   "cell_type": "code",
   "execution_count": 13,
   "id": "c2f9ccfc-1813-46ab-abdf-9c9e80953234",
   "metadata": {},
   "outputs": [],
   "source": [
    "def sunspots_yearly(year):\n",
    "    no_sunspots = np.sum(sunspots_array[index_from_MY(1, year):index_from_MY(1, year + 1)])\n",
    "    if year < 1749 or year > 1983: \n",
    "        print(f'Error: please check if date entered is viable. The dates entered must be between{index_from_MY(0)} and {index_from_MY(len(sunspots_array)-1)}')\n",
    "    else:\n",
    "        return no_sunspots\n"
   ]
  },
  {
   "cell_type": "code",
   "execution_count": 14,
   "id": "cf35b4f7-0021-473f-be49-8d2687bbe5aa",
   "metadata": {},
   "outputs": [
    {
     "name": "stdout",
     "output_type": "stream",
     "text": [
      "255.2\n",
      "568.4\n"
     ]
    }
   ],
   "source": [
    "print(sunspots_yearly(1795))\n",
    "print(sunspots_yearly(1915))"
   ]
  },
  {
   "cell_type": "code",
   "execution_count": 15,
   "id": "59141195-09ed-4d11-bd05-dd08e1212b8d",
   "metadata": {},
   "outputs": [
    {
     "name": "stdout",
     "output_type": "stream",
     "text": [
      "0.0\n",
      "31.0\n",
      "42.0\n",
      "25.0\n",
      "50.6\n",
      "37.5\n",
      "27.7\n",
      "23.8\n",
      "12.3\n",
      "2.5\n",
      "0.0\n",
      "0.0\n",
      "0.0\n",
      "16.6\n",
      "23.8\n",
      "31.6\n",
      "58.8\n",
      "26.4\n",
      "34.5\n",
      "20.2\n",
      "19.4\n",
      "9.2\n",
      "13.5\n",
      "0.0\n",
      "19.4\n",
      "3.8\n",
      "24.0\n",
      "46.0\n",
      "61.1\n",
      "95.0\n",
      "107.1\n",
      "54.6\n",
      "26.9\n",
      "2.8\n",
      "1.4\n",
      "61.5\n",
      "142.9\n",
      "138.2\n",
      "126.6\n",
      "61.8\n",
      "65.9\n",
      "42.6\n",
      "26.9\n",
      "8.8\n",
      "20.8\n",
      "56.9\n",
      "69.2\n",
      "44.7\n",
      "107.1\n",
      "102.5\n",
      "44.1\n"
     ]
    }
   ],
   "source": [
    "for year in range(1800, 1851):\n",
    "    print(sunspots_array[index_from_MY(4, year)])"
   ]
  },
  {
   "cell_type": "code",
   "execution_count": 16,
   "id": "a62bae12-ed93-412d-8dcf-453feda2ce66",
   "metadata": {},
   "outputs": [
    {
     "name": "stdout",
     "output_type": "stream",
     "text": [
      "480.7\n",
      "145.3\n"
     ]
    }
   ],
   "source": [
    "print(sunspots_yearly(1845))\n",
    "print(sunspots_yearly(1899))"
   ]
  },
  {
   "cell_type": "code",
   "execution_count": 17,
   "id": "387f5f14-3826-4480-9d84-f3943a469c8c",
   "metadata": {},
   "outputs": [
    {
     "name": "stdout",
     "output_type": "stream",
     "text": [
      "158.2 64.2 120.1 79.5\n"
     ]
    }
   ],
   "source": [
    "print(np.max(sunspots_array[index_from_MY(1, 1769):index_from_MY(1, 1770)]),\n",
    "np.min(sunspots_array[index_from_MY(1, 1769):index_from_MY(1, 1770)]),\n",
    "np.max(sunspots_array[index_from_MY(1, 1872):index_from_MY(1, 1873)]),\n",
    "np.min(sunspots_array[index_from_MY(1, 1872):index_from_MY(1, 1873)]))"
   ]
  },
  {
   "cell_type": "code",
   "execution_count": 18,
   "id": "46fbf977-0df0-459a-8c3b-260a42758aab",
   "metadata": {},
   "outputs": [],
   "source": [
    "def get_averageYear(year):\n",
    "    average = np.mean(sunspots_array[index_from_MY(1, year):index_from_MY(1, year + 1)])\n",
    "    return average "
   ]
  },
  {
   "cell_type": "code",
   "execution_count": 19,
   "id": "1bed5ccd-3670-410f-9245-b003782fce98",
   "metadata": {},
   "outputs": [
    {
     "name": "stdout",
     "output_type": "stream",
     "text": [
      "63.69999999999999\n"
     ]
    }
   ],
   "source": [
    "print(get_averageYear(1883))"
   ]
  },
  {
   "cell_type": "code",
   "execution_count": 20,
   "id": "10e0d54f-e438-4ef1-a8fb-98afef2df924",
   "metadata": {},
   "outputs": [
    {
     "name": "stdout",
     "output_type": "stream",
     "text": [
      "2.5\n",
      "4.299999999999999\n",
      "5.300000000000001\n",
      "16.0\n",
      "10.2\n",
      "11.6\n",
      "12.7\n",
      "15.2\n",
      "3.1999999999999993\n",
      "0.5999999999999996\n",
      "6.0\n",
      "39.800000000000004\n"
     ]
    }
   ],
   "source": [
    "for month in range(1, 13):\n",
    "    print(np.abs(sunspots_array[index_from_MY(month, 1800)]-sunspots_array[index_from_MY(month, 1900)])) #indexes for specfic rows/months"
   ]
  },
  {
   "cell_type": "code",
   "execution_count": null,
   "id": "a6d53cf8-6521-4c84-945c-0209b5a71c0e",
   "metadata": {},
   "outputs": [],
   "source": []
  }
 ],
 "metadata": {
  "kernelspec": {
   "display_name": "Python 3 (ipykernel)",
   "language": "python",
   "name": "python3"
  },
  "language_info": {
   "codemirror_mode": {
    "name": "ipython",
    "version": 3
   },
   "file_extension": ".py",
   "mimetype": "text/x-python",
   "name": "python",
   "nbconvert_exporter": "python",
   "pygments_lexer": "ipython3",
   "version": "3.11.9"
  }
 },
 "nbformat": 4,
 "nbformat_minor": 5
}
